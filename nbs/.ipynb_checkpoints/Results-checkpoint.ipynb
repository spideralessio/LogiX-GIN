{
 "cells": [
  {
   "cell_type": "code",
   "execution_count": 6,
   "id": "f03e2d13-2e5d-444c-bdd4-f822e9a5c849",
   "metadata": {},
   "outputs": [],
   "source": [
    "import pandas as pd\n",
    "import json\n",
    "import glob\n",
    "import os\n",
    "pd.set_option(\"display.max_columns\", None)"
   ]
  },
  {
   "cell_type": "code",
   "execution_count": 7,
   "id": "a17d443f-5d38-4e28-9d4e-f129f5c1ec55",
   "metadata": {},
   "outputs": [],
   "source": [
    "def extract_params(s, suffix=''):\n",
    "    l = [x.split('=') for x in s.split('/')[-2].split('|')]\n",
    "    d = {k+suffix:v for k,v in l}\n",
    "    return d\n",
    "def extract_params2(s, suffix=''):\n",
    "    l = [x.split('=') for x in s.split('/')[-3].split('|')]\n",
    "    d = {k+suffix:v for k,v in l}\n",
    "    return d"
   ]
  },
  {
   "cell_type": "code",
   "execution_count": 13,
   "id": "1498b8a5-f33b-4b84-8c5a-57f579b39c6c",
   "metadata": {},
   "outputs": [],
   "source": [
    "results_tbl = []\n",
    "for dataset in os.listdir('../results'):\n",
    "    l = glob.glob(f'../results/{dataset}/*/results.json')\n",
    "    fl = [json.load(open(f)) for f in l]\n",
    "    df = pd.DataFrame(fl)\n",
    "    if df.shape[0] == 0: continue\n",
    "    df['fname'] = l\n",
    "    df = df.sort_values(by=['val_acc_mean', 'val_acc_std', 'test_acc_std'], ascending=[True,False,False])\n",
    "    df_gumbel = df[df.fname.str.contains('nogumbel=False')]\n",
    "    df_nogumbel = df[df.fname.str.contains('nogumbel=True')]\n",
    "\n",
    "    \n",
    "    results_tbl.append({\n",
    "        'dataset':dataset,\n",
    "        'acc':f\"{df_nogumbel.iloc[-1]['test_acc_mean']*100:.2f} ± {df_nogumbel.iloc[-1]['test_acc_std']*100:.2f}\" if df_nogumbel.shape[0]>0 else \"NaN\",\n",
    "        'acc_bin':f\"{df_gumbel.iloc[-1]['test_acc_mean']*100:.2f} ± {df_gumbel.iloc[-1]['test_acc_std']*100:.2f}\" if df_gumbel.shape[0]>0 else \"NaN\",\n",
    "        'acc_logic': \"\",\n",
    "        'decay_logic': \"\",\n",
    "        'exp':f\"{df_nogumbel.shape[0]}\",\n",
    "        'exp_bin':f\"{df_gumbel.shape[0]}\",\n",
    "        'exp_logic': \"\",\n",
    "        # 'fname':df_gumbel.iloc[-1]['fname'],\n",
    "    })\n",
    "\n",
    "    # if df_nogumbel.shape[0]>0:\n",
    "    #     results_tbl[-1].update(extract_params(df_nogumbel.iloc[-1]['fname']))\n",
    "\n",
    "    l = glob.glob(f'../results_logic/{dataset}/*/*/results.json')\n",
    "    fl = [json.load(open(f)) for f in l]\n",
    "    df = pd.DataFrame(fl)\n",
    "    if df.shape[0] == 0: continue\n",
    "    df['fname'] = l\n",
    "    df = df.sort_values(by=['val_acc_mean', 'val_acc_std', 'test_acc_std'], ascending=[True,False,False])\n",
    "    results_tbl[-1]['acc_logic'] = f\"{df.iloc[-1]['test_acc_mean']*100:.2f} ± {df.iloc[-1]['test_acc_std']*100:.2f}\" if df.shape[0]>0 else \"NaN\"\n",
    "    results_tbl[-1]['exp_logic'] = f\"{df.shape[0]}\"\n",
    "    results_tbl[-1]['decay_logic'] = f\"{((df_nogumbel.iloc[-1]['test_acc_mean']-df.iloc[-1]['test_acc_mean'])/(df_nogumbel.iloc[-1]['test_acc_mean']))*100:.2f}\"\n",
    "    \n",
    "    if df.shape[0]>0:\n",
    "        results_tbl[-1].update(extract_params2(df.iloc[-1]['fname'], suffix=''))\n"
   ]
  },
  {
   "cell_type": "code",
   "execution_count": 14,
   "id": "e61326a6-4030-428c-8a6d-9821c25a7f3e",
   "metadata": {},
   "outputs": [
    {
     "data": {
      "text/html": [
       "<div>\n",
       "<style scoped>\n",
       "    .dataframe tbody tr th:only-of-type {\n",
       "        vertical-align: middle;\n",
       "    }\n",
       "\n",
       "    .dataframe tbody tr th {\n",
       "        vertical-align: top;\n",
       "    }\n",
       "\n",
       "    .dataframe thead th {\n",
       "        text-align: right;\n",
       "    }\n",
       "</style>\n",
       "<table border=\"1\" class=\"dataframe\">\n",
       "  <thead>\n",
       "    <tr style=\"text-align: right;\">\n",
       "      <th></th>\n",
       "      <th>dataset</th>\n",
       "      <th>acc</th>\n",
       "      <th>acc_bin</th>\n",
       "      <th>acc_logic</th>\n",
       "      <th>decay_logic</th>\n",
       "      <th>exp</th>\n",
       "      <th>exp_bin</th>\n",
       "      <th>exp_logic</th>\n",
       "      <th>batch_size</th>\n",
       "      <th>conv_reg</th>\n",
       "      <th>epochs</th>\n",
       "      <th>fc_reg</th>\n",
       "      <th>l2</th>\n",
       "      <th>lr</th>\n",
       "      <th>warmup_epochs</th>\n",
       "    </tr>\n",
       "  </thead>\n",
       "  <tbody>\n",
       "    <tr>\n",
       "      <th>0</th>\n",
       "      <td>MUTAG</td>\n",
       "      <td>89.47 ± nan</td>\n",
       "      <td>84.21 ± nan</td>\n",
       "      <td>84.21 ± nan</td>\n",
       "      <td>5.88</td>\n",
       "      <td>1</td>\n",
       "      <td>1</td>\n",
       "      <td>1</td>\n",
       "      <td>32</td>\n",
       "      <td>0.001</td>\n",
       "      <td>5000</td>\n",
       "      <td>0.01</td>\n",
       "      <td>0.0</td>\n",
       "      <td>0.01</td>\n",
       "      <td>3000</td>\n",
       "    </tr>\n",
       "  </tbody>\n",
       "</table>\n",
       "</div>"
      ],
      "text/plain": [
       "  dataset          acc      acc_bin    acc_logic decay_logic exp exp_bin  \\\n",
       "0   MUTAG  89.47 ± nan  84.21 ± nan  84.21 ± nan        5.88   1       1   \n",
       "\n",
       "  exp_logic batch_size conv_reg epochs fc_reg   l2    lr warmup_epochs  \n",
       "0         1         32    0.001   5000   0.01  0.0  0.01          3000  "
      ]
     },
     "execution_count": 14,
     "metadata": {},
     "output_type": "execute_result"
    }
   ],
   "source": [
    "pd.DataFrame(results_tbl)"
   ]
  }
 ],
 "metadata": {
  "kernelspec": {
   "display_name": "Python [conda env:.conda-pyg]",
   "language": "python",
   "name": "conda-env-.conda-pyg-py"
  },
  "language_info": {
   "codemirror_mode": {
    "name": "ipython",
    "version": 3
   },
   "file_extension": ".py",
   "mimetype": "text/x-python",
   "name": "python",
   "nbconvert_exporter": "python",
   "pygments_lexer": "ipython3",
   "version": "3.8.0"
  }
 },
 "nbformat": 4,
 "nbformat_minor": 5
}
